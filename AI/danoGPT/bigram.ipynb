{
 "cells": [
  {
   "cell_type": "code",
   "execution_count": 1,
   "metadata": {},
   "outputs": [
    {
     "name": "stderr",
     "output_type": "stream",
     "text": [
      "/Users/dan/.dan/projects/playground/AI/danoGPT/.venv/lib/python3.11/site-packages/torch/nn/modules/transformer.py:20: UserWarning: Failed to initialize NumPy: No module named 'numpy' (Triggered internally at /Users/runner/work/pytorch/pytorch/pytorch/torch/csrc/utils/tensor_numpy.cpp:84.)\n",
      "  device: torch.device = torch.device(torch._C._get_default_device()),  # torch.device('cpu'),\n"
     ]
    },
    {
     "name": "stdout",
     "output_type": "stream",
     "text": [
      "False\n",
      "vocab_size=65\n",
      "chars[0]='\\n'\n"
     ]
    }
   ],
   "source": [
    "import torch\n",
    "import torch.nn as nn\n",
    "from torch.nn import functional as F\n",
    "from typing import Tuple, Optional\n",
    "\n",
    "# cuda available?\n",
    "print(torch.cuda.is_available())\n",
    "\n",
    "fname = \"input.txt\"\n",
    "with open(fname, \"r\") as f:\n",
    "    text = f.read()\n",
    "\n",
    "chars = sorted(list(set(text)))\n",
    "vocab_size = len(chars)\n",
    "print(f\"{vocab_size=}\")\n",
    "print(f\"{chars[0]=}\")"
   ]
  },
  {
   "cell_type": "code",
   "execution_count": 2,
   "metadata": {},
   "outputs": [
    {
     "name": "stdout",
     "output_type": "stream",
     "text": [
      "[46, 43, 50, 50, 53, 1, 61, 53, 56, 50, 42]\n",
      "hello world\n"
     ]
    }
   ],
   "source": [
    "# simple tokenizer\n",
    "# string to int\n",
    "stoi = {ch: i for i, ch in enumerate(chars)}\n",
    "itos = {i: ch for i, ch in enumerate(chars)}\n",
    "\n",
    "encode = lambda s: [stoi[c] for c in s]\n",
    "decode = lambda l: \"\".join([itos[n] for n in l])\n",
    "\n",
    "res = encode(\"hello world\")\n",
    "print(res)\n",
    "print(decode(res))"
   ]
  },
  {
   "cell_type": "code",
   "execution_count": 3,
   "metadata": {},
   "outputs": [
    {
     "name": "stdout",
     "output_type": "stream",
     "text": [
      "full dataset: all_data.shape=torch.Size([1115394]), all_data.dtype=torch.int64\n",
      "all_data[:50]=tensor([18, 47, 56, 57, 58,  1, 15, 47, 58, 47, 64, 43, 52, 10,  0, 14, 43, 44,\n",
      "        53, 56, 43,  1, 61, 43,  1, 54, 56, 53, 41, 43, 43, 42,  1, 39, 52, 63,\n",
      "         1, 44, 59, 56, 58, 46, 43, 56,  6,  1, 46, 43, 39, 56])\n",
      "First Citizen:\n",
      "Before we proceed any further, hear\n",
      "len(train_data)/len(all_data)=0.8000\n",
      "len(val_data)/len(all_data)=0.1000\n",
      "len(test_data)/len(all_data)=0.1000\n"
     ]
    }
   ],
   "source": [
    "# let's tokenize our dataset\n",
    "\n",
    "all_data = torch.tensor(encode(text), dtype=torch.long)\n",
    "print(f\"full dataset: {all_data.shape=}, {all_data.dtype=}\")\n",
    "print(f\"{all_data[:50]=}\")\n",
    "\n",
    "print(decode(all_data[:50].tolist()))\n",
    "\n",
    "\n",
    "def split_dataset(\n",
    "    data: torch.Tensor,\n",
    ") -> Tuple[torch.Tensor, torch.Tensor, torch.Tensor]:\n",
    "    \"\"\"Split\"\"\"\n",
    "    n = len(data)\n",
    "    s1 = int(n * 0.8)\n",
    "    s2 = int(n * 0.9)\n",
    "    return (data[:s1], data[s1:s2], data[s2:])\n",
    "\n",
    "\n",
    "train_data, val_data, test_data = split_dataset(all_data)\n",
    "data_map = {\n",
    "    \"train\": train_data,\n",
    "    \"test\": test_data,\n",
    "    \"val\": val_data,\n",
    "}\n",
    "print(f\"{len(train_data)/len(all_data)=:.4f}\")\n",
    "print(f\"{len(val_data)/len(all_data)=:.4f}\")\n",
    "print(f\"{len(test_data)/len(all_data)=:.4f}\")"
   ]
  },
  {
   "cell_type": "code",
   "execution_count": 4,
   "metadata": {},
   "outputs": [
    {
     "data": {
      "text/plain": [
       "tensor([18, 47, 56, 57, 58,  1, 15, 47, 58])"
      ]
     },
     "execution_count": 4,
     "metadata": {},
     "output_type": "execute_result"
    }
   ],
   "source": [
    "# block size of 8 (containining 9 tokens)\n",
    "#   means there are 8 challenges to solve\n",
    "#   e.g. given token 0 predict token 1, given [0,1] predict 2, ...\n",
    "block_size = 8\n",
    "train_data[: block_size + 1]"
   ]
  },
  {
   "cell_type": "code",
   "execution_count": 11,
   "metadata": {},
   "outputs": [
    {
     "name": "stdout",
     "output_type": "stream",
     "text": [
      "xb.shape=torch.Size([4, 8])\n",
      "yb.shape=torch.Size([4, 8])\n",
      "inputs: 'ty.\n",
      "\n",
      "GLO'\n",
      "target: 'y.\n",
      "\n",
      "GLOU'\n"
     ]
    }
   ],
   "source": [
    "seed = 1337\n",
    "torch.manual_seed(seed)\n",
    "batch_size = 4  # num independent sequences to process in parallel\n",
    "block_size = 8  # max context length for predictions\n",
    "\n",
    "\n",
    "def get_batch(\n",
    "    split: str, batch_size: int = batch_size, block_size: int = block_size\n",
    ") -> Tuple[torch.Tensor, torch.Tensor]:\n",
    "    \"\"\"\n",
    "    Produce batch of inputs and target sequences.\n",
    "    E.g. for a given batch item, x[item]: \"hello wo\",  y[item]: \"ello wor\",\n",
    "    # so later input \"h\" -> target \"e\", input \"he\" -> \"l\", input \"hel\" -> \"o\", ...\n",
    "    x and y both have dimensions: (batch_size, block_size)\n",
    "    \"\"\"\n",
    "    data = data_map[split]\n",
    "\n",
    "    # print(f\"generating random int in [0, {len(data) - block_size})\")\n",
    "    # generate random start index batch_size separate batches\n",
    "    ix = torch.randint(len(data) - block_size, (batch_size,))\n",
    "    x = torch.stack([data[i : i + block_size] for i in ix])\n",
    "    y = torch.stack([data[(i + 1) : i + block_size + 1] for i in ix])\n",
    "    return x, y\n",
    "\n",
    "\n",
    "xb, yb = get_batch(\"train\")\n",
    "print(f\"{xb.shape=}\")  # inputs: (4, 8)\n",
    "print(f\"{yb.shape=}\")  # target: (4, 8)\n",
    "\n",
    "# for example\n",
    "print(f\"inputs: '{decode(xb[0].tolist())}'\")\n",
    "print(f\"target: '{decode(yb[0].tolist())}'\")"
   ]
  },
  {
   "cell_type": "code",
   "execution_count": 20,
   "metadata": {},
   "outputs": [
    {
     "name": "stdout",
     "output_type": "stream",
     "text": [
      "loss=4.6686\n",
      "logits.shape=torch.Size([800, 65])\n",
      "idx=tensor([[0]])\n",
      "type(idx)=<class 'torch.Tensor'>\n",
      "torch.Size([1, 26])\n",
      "text='\n",
      "laJqLS!lV\n",
      "vyDSdqSdDJhJ-Nv'\n",
      "eval_0=4.6655\n"
     ]
    }
   ],
   "source": [
    "# (22:45 in tutorial)\n",
    "\n",
    "class BigramLangModel(nn.Module):\n",
    "    def __init__(self, vocab_size: int):\n",
    "        super().__init__()\n",
    "\n",
    "        # in this case, embeddings have the same length as the vocab size\n",
    "        # because for a bigram model, one char should map to a probability distribution of the other chars :)\n",
    "        num_embeddings = vocab_size\n",
    "        embedding_dim = vocab_size\n",
    "        self.token_embedding_table = nn.Embedding(num_embeddings, embedding_dim)\n",
    "\n",
    "    def forward(self, idx: torch.Tensor, targets: Optional[torch.Tensor] = None):\n",
    "        \"\"\"idx and target are both (B,T) tensor of integers.\"\"\"\n",
    "\n",
    "        # map tokens to their embeddings\n",
    "        logits = self.token_embedding_table(idx)\n",
    "\n",
    "        B, T, C = logits.shape\n",
    "\n",
    "        if targets is None:\n",
    "            return logits, None\n",
    "\n",
    "        # restructure for cross_entropy function\n",
    "        logits = logits.view((B * T, C))\n",
    "        targets = targets.view(B * T)\n",
    "        # reorder (B,T,C) -> (B,C,T)\n",
    "        loss = F.cross_entropy(logits, targets)\n",
    "        return logits, loss\n",
    "\n",
    "    def generate(self, idx: torch.Tensor, max_new_tokens: int):\n",
    "        \"\"\"\n",
    "        Given context (idx tokens), predict max_new_tokens.\n",
    "        idx is (B,T) of indieces in current context.\n",
    "        \"\"\"\n",
    "\n",
    "        for _ in range(max_new_tokens):\n",
    "            logits, _ = self(idx)  # predict\n",
    "            # print(f\"{logits.shape=}\")\n",
    "            # this is a bigram model, so only need to look at last context token (-1)\n",
    "            logits = logits[:, -1, :]  # (B,C)\n",
    "            # print(f\"{logits.shape=}\")\n",
    "\n",
    "            probs = F.softmax(logits, dim=-1)  # (B,C)\n",
    "            # sample from dist\n",
    "            idx_next = torch.multinomial(probs, num_samples=1)\n",
    "            idx = torch.cat((idx, idx_next), dim=1)  # (B, T+1)\n",
    "        return idx\n",
    "\n",
    "\n",
    "model = BigramLangModel(vocab_size)\n",
    "logits, loss = model(xb, yb)\n",
    "print(f\"{loss=:.4f}\")\n",
    "# batch, time (block_size), channel (embedding_dim)\n",
    "print(f\"{logits.shape=}\")  # (B=4, T=8, C=65)\n",
    "\n",
    "# generate text starting with newline char\n",
    "idx = torch.ones((1, 1), dtype=torch.long).fill_(encode(\"\\n\")[0])\n",
    "print(f\"{idx=}\")\n",
    "print(f\"{type(idx)=}\")\n",
    "res = model.generate(idx, 25)\n",
    "print(res.shape)\n",
    "text = decode(res[0].tolist())\n",
    "\n",
    "print(f\"text='{text}'\")\n",
    "\n",
    "def eval_model(split: str):\n",
    "    \"\"\"return average loss across \"some part\" of a given dataset split (e.g. 'val').\"\"\"\n",
    "    total_loss = 0.0\n",
    "    samples = 100\n",
    "    with torch.no_grad():\n",
    "        for _ in range(samples):\n",
    "            xb, yb = get_batch(split, batch_size=8, block_size=100)\n",
    "            _, loss = model(xb, yb)\n",
    "            total_loss += loss\n",
    "    return total_loss.item() / samples\n",
    "\n",
    "eval_0 = eval_model(\"val\")\n",
    "print(f\"{eval_0=:.4f}\")\n"
   ]
  },
  {
   "cell_type": "code",
   "execution_count": 29,
   "metadata": {},
   "outputs": [
    {
     "name": "stdout",
     "output_type": "stream",
     "text": [
      "text_before='\\n:LELOLAymyk!\\n:XKnWfw f ae'\n"
     ]
    },
    {
     "name": "stderr",
     "output_type": "stream",
     "text": [
      " 96%|█████████▋| 9650/10000 [02:25<00:05, 66.39it/s]\n"
     ]
    },
    {
     "ename": "KeyboardInterrupt",
     "evalue": "",
     "output_type": "error",
     "traceback": [
      "\u001b[0;31m---------------------------------------------------------------------------\u001b[0m",
      "\u001b[0;31mKeyboardInterrupt\u001b[0m                         Traceback (most recent call last)",
      "Cell \u001b[0;32mIn[29], line 12\u001b[0m\n\u001b[1;32m     10\u001b[0m \u001b[38;5;28;01mfor\u001b[39;00m i \u001b[38;5;129;01min\u001b[39;00m tqdm(\u001b[38;5;28mrange\u001b[39m(\u001b[38;5;241m10000\u001b[39m)):\n\u001b[1;32m     11\u001b[0m     \u001b[38;5;28;01mif\u001b[39;00m i \u001b[38;5;241m%\u001b[39m \u001b[38;5;241m5\u001b[39m \u001b[38;5;241m==\u001b[39m \u001b[38;5;241m0\u001b[39m:\n\u001b[0;32m---> 12\u001b[0m         stats[\u001b[38;5;124m\"\u001b[39m\u001b[38;5;124mval\u001b[39m\u001b[38;5;124m\"\u001b[39m]\u001b[38;5;241m.\u001b[39mappend(\u001b[43meval_model\u001b[49m\u001b[43m(\u001b[49m\u001b[38;5;124;43m\"\u001b[39;49m\u001b[38;5;124;43mval\u001b[39;49m\u001b[38;5;124;43m\"\u001b[39;49m\u001b[43m)\u001b[49m)\n\u001b[1;32m     13\u001b[0m         stats[\u001b[38;5;124m\"\u001b[39m\u001b[38;5;124mtrain\u001b[39m\u001b[38;5;124m\"\u001b[39m]\u001b[38;5;241m.\u001b[39mappend(eval_model(\u001b[38;5;124m\"\u001b[39m\u001b[38;5;124mtrain\u001b[39m\u001b[38;5;124m\"\u001b[39m))\n\u001b[1;32m     15\u001b[0m     xb, yb \u001b[38;5;241m=\u001b[39m get_batch(\u001b[38;5;124m\"\u001b[39m\u001b[38;5;124mtrain\u001b[39m\u001b[38;5;124m\"\u001b[39m, batch_size\u001b[38;5;241m=\u001b[39m\u001b[38;5;241m8\u001b[39m, block_size\u001b[38;5;241m=\u001b[39m\u001b[38;5;241m500\u001b[39m)\n",
      "Cell \u001b[0;32mIn[20], line 73\u001b[0m, in \u001b[0;36meval_model\u001b[0;34m(split)\u001b[0m\n\u001b[1;32m     71\u001b[0m \u001b[38;5;28;01mwith\u001b[39;00m torch\u001b[38;5;241m.\u001b[39mno_grad():\n\u001b[1;32m     72\u001b[0m     \u001b[38;5;28;01mfor\u001b[39;00m _ \u001b[38;5;129;01min\u001b[39;00m \u001b[38;5;28mrange\u001b[39m(samples):\n\u001b[0;32m---> 73\u001b[0m         xb, yb \u001b[38;5;241m=\u001b[39m \u001b[43mget_batch\u001b[49m\u001b[43m(\u001b[49m\u001b[43msplit\u001b[49m\u001b[43m,\u001b[49m\u001b[43m \u001b[49m\u001b[43mbatch_size\u001b[49m\u001b[38;5;241;43m=\u001b[39;49m\u001b[38;5;241;43m8\u001b[39;49m\u001b[43m,\u001b[49m\u001b[43m \u001b[49m\u001b[43mblock_size\u001b[49m\u001b[38;5;241;43m=\u001b[39;49m\u001b[38;5;241;43m100\u001b[39;49m\u001b[43m)\u001b[49m\n\u001b[1;32m     74\u001b[0m         _, loss \u001b[38;5;241m=\u001b[39m model(xb, yb)\n\u001b[1;32m     75\u001b[0m         total_loss \u001b[38;5;241m+\u001b[39m\u001b[38;5;241m=\u001b[39m loss\n",
      "Cell \u001b[0;32mIn[11], line 21\u001b[0m, in \u001b[0;36mget_batch\u001b[0;34m(split, batch_size, block_size)\u001b[0m\n\u001b[1;32m     18\u001b[0m \u001b[38;5;66;03m# print(f\"generating random int in [0, {len(data) - block_size})\")\u001b[39;00m\n\u001b[1;32m     19\u001b[0m \u001b[38;5;66;03m# generate random start index batch_size separate batches\u001b[39;00m\n\u001b[1;32m     20\u001b[0m ix \u001b[38;5;241m=\u001b[39m torch\u001b[38;5;241m.\u001b[39mrandint(\u001b[38;5;28mlen\u001b[39m(data) \u001b[38;5;241m-\u001b[39m block_size, (batch_size,))\n\u001b[0;32m---> 21\u001b[0m x \u001b[38;5;241m=\u001b[39m torch\u001b[38;5;241m.\u001b[39mstack(\u001b[43m[\u001b[49m\u001b[43mdata\u001b[49m\u001b[43m[\u001b[49m\u001b[43mi\u001b[49m\u001b[43m \u001b[49m\u001b[43m:\u001b[49m\u001b[43m \u001b[49m\u001b[43mi\u001b[49m\u001b[43m \u001b[49m\u001b[38;5;241;43m+\u001b[39;49m\u001b[43m \u001b[49m\u001b[43mblock_size\u001b[49m\u001b[43m]\u001b[49m\u001b[43m \u001b[49m\u001b[38;5;28;43;01mfor\u001b[39;49;00m\u001b[43m \u001b[49m\u001b[43mi\u001b[49m\u001b[43m \u001b[49m\u001b[38;5;129;43;01min\u001b[39;49;00m\u001b[43m \u001b[49m\u001b[43mix\u001b[49m\u001b[43m]\u001b[49m)\n\u001b[1;32m     22\u001b[0m y \u001b[38;5;241m=\u001b[39m torch\u001b[38;5;241m.\u001b[39mstack([data[(i \u001b[38;5;241m+\u001b[39m \u001b[38;5;241m1\u001b[39m) : i \u001b[38;5;241m+\u001b[39m block_size \u001b[38;5;241m+\u001b[39m \u001b[38;5;241m1\u001b[39m] \u001b[38;5;28;01mfor\u001b[39;00m i \u001b[38;5;129;01min\u001b[39;00m ix])\n\u001b[1;32m     23\u001b[0m \u001b[38;5;28;01mreturn\u001b[39;00m x, y\n",
      "Cell \u001b[0;32mIn[11], line 21\u001b[0m, in \u001b[0;36m<listcomp>\u001b[0;34m(.0)\u001b[0m\n\u001b[1;32m     18\u001b[0m \u001b[38;5;66;03m# print(f\"generating random int in [0, {len(data) - block_size})\")\u001b[39;00m\n\u001b[1;32m     19\u001b[0m \u001b[38;5;66;03m# generate random start index batch_size separate batches\u001b[39;00m\n\u001b[1;32m     20\u001b[0m ix \u001b[38;5;241m=\u001b[39m torch\u001b[38;5;241m.\u001b[39mrandint(\u001b[38;5;28mlen\u001b[39m(data) \u001b[38;5;241m-\u001b[39m block_size, (batch_size,))\n\u001b[0;32m---> 21\u001b[0m x \u001b[38;5;241m=\u001b[39m torch\u001b[38;5;241m.\u001b[39mstack([data[i : i \u001b[38;5;241m+\u001b[39m block_size] \u001b[38;5;28;01mfor\u001b[39;00m i \u001b[38;5;129;01min\u001b[39;00m ix])\n\u001b[1;32m     22\u001b[0m y \u001b[38;5;241m=\u001b[39m torch\u001b[38;5;241m.\u001b[39mstack([data[(i \u001b[38;5;241m+\u001b[39m \u001b[38;5;241m1\u001b[39m) : i \u001b[38;5;241m+\u001b[39m block_size \u001b[38;5;241m+\u001b[39m \u001b[38;5;241m1\u001b[39m] \u001b[38;5;28;01mfor\u001b[39;00m i \u001b[38;5;129;01min\u001b[39;00m ix])\n\u001b[1;32m     23\u001b[0m \u001b[38;5;28;01mreturn\u001b[39;00m x, y\n",
      "\u001b[0;31mKeyboardInterrupt\u001b[0m: "
     ]
    }
   ],
   "source": [
    "from tqdm import tqdm\n",
    "# higher learning rate cause this network is tiny\n",
    "optimizer = torch.optim.Adam(model.parameters(), lr=1e-3)\n",
    "\n",
    "stats = {\"val\": [], \"train\": [], \"step\": []}\n",
    "\n",
    "text_before = decode(model.generate(idx, 25)[0].tolist())\n",
    "print(f\"{text_before=}\")\n",
    "\n",
    "for step in tqdm(range(10000)):\n",
    "    if step % 100 == 0:\n",
    "        stats[\"step\"].append(step)\n",
    "        stats[\"val\"].append(eval_model(\"val\"))\n",
    "        stats[\"train\"].append(eval_model(\"train\"))\n",
    "    \n",
    "    xb, yb = get_batch(\"train\", batch_size=8, block_size=500)\n",
    "    model.train()\n",
    "    optimizer.zero_grad()\n",
    "    _, loss = model(xb, yb)\n",
    "    loss.backward()\n",
    "    optimizer.step()\n",
    "\n",
    "\n",
    "print(stats)\n",
    "\n",
    "\n",
    "\n",
    "    "
   ]
  },
  {
   "cell_type": "code",
   "execution_count": 34,
   "metadata": {},
   "outputs": [
    {
     "name": "stdout",
     "output_type": "stream",
     "text": [
      "\n",
      "ENI t thag.\n",
      "Whe I f rnecoof sim d bithis feal,\n",
      "LOLart e ilol hased h ng?\n",
      "S:\n",
      "K:\n",
      "Wh. ofulontteBee usthark'lot I, an'sperthancrtPUK:\n",
      "\n",
      "Theimarer' lano fr an ht otha tou thedingath I t hanghetid sis y,\n",
      "bear, t s?\n",
      "t\n",
      "Core t.\n",
      "Mys digifo!--wstenof and h m an, ivems ck s fe tund e, ad ut de.\n",
      "Whyorin tls or pr yokn:\n",
      "TERKI mungoum!'l f br,\n",
      "EREThe may,\n",
      "\n",
      "I:\n",
      "astonony st\n",
      "\n",
      "As beade BO helse.\n",
      "OHeverse mbist t;\n",
      "NThagey d.\n",
      "\n",
      "ARinyeny sis ome\n",
      "Yo k' t th I this hed brernd\n",
      "Whes d urrro r t; te bbeay s\n",
      "Whusof;'t th;\n",
      "\n",
      "S:\n"
     ]
    },
    {
     "data": {
      "image/png": "[encoded data removed]",
      "text/plain": [
       "<Figure size 640x480 with 1 Axes>"
      ]
     },
     "metadata": {},
     "output_type": "display_data"
    }
   ],
   "source": [
    "# generate text starting with newline char\n",
    "idx = torch.ones((1, 1), dtype=torch.long).fill_(encode(\"\\n\")[0])\n",
    "text_after = decode(model.generate(idx, 500)[0].tolist())\n",
    "#print(f\"{text_after=}\")\n",
    "print(text_after)\n",
    "\n",
    "# plot stats\n",
    "import matplotlib.pyplot as plt\n",
    "\n",
    "# val and train on sample plot\n",
    "plt.plot(stats[\"val\"], label=\"val\")\n",
    "plt.plot(stats[\"train\"], label=\"train\")\n",
    "plt.legend()\n",
    "plt.show()"
   ]
  }
 ],
 "metadata": {
  "kernelspec": {
   "display_name": ".venv",
   "language": "python",
   "name": "python3"
  },
  "language_info": {
   "codemirror_mode": {
    "name": "ipython",
    "version": 3
   },
   "file_extension": ".py",
   "mimetype": "text/x-python",
   "name": "python",
   "nbconvert_exporter": "python",
   "pygments_lexer": "ipython3",
   "version": "3.11.7"
  }
 },
 "nbformat": 4,
 "nbformat_minor": 2
}
