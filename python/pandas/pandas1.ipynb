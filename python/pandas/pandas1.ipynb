{
 "cells": [
  {
   "cell_type": "markdown",
   "metadata": {
    "deletable": false,
    "editable": false,
    "nbgrader": {
     "cell_type": "markdown",
     "checksum": "423c249182f6a84d5bebe335d1c5fdbd",
     "grade": false,
     "grade_id": "cell-820d7adf0bae8833",
     "locked": true,
     "schema_version": 3,
     "solution": false,
     "task": false
    }
   },
   "source": [
    "# Jupyter Notebook introduction\n",
    "\n",
    "We'll start off with a very brief introduction on the basics of using Jupyter notebooks.\n",
    "\n",
    "### Notebook cells\n",
    "\n",
    "A notebook consists of a sequence of cells. A cell is a multi-line text input field, and its contents can be executed by typing `Shift-Enter`, or by clicking the `Run` button in the toolbar. What exactly this does depends on the type of cell. There are four types of cells: *code cells*, *markdown cells*, *raw cells* and *heading cells*. We will only focus on the first 2; code and markdown. Every cell starts off being a code cell, but its type can be changed by using a dropdown on the toolbar (which will be `Code`, initially).\n",
    "\n",
    "In a code cell you can write *Python* code. When you run that cell (click on it and press `Shift-Enter`) the code in the cell will run, and the output of the cell will be displayed beneath the cell. Lets try out a very simple code cell below"
   ]
  },
  {
   "cell_type": "code",
   "execution_count": null,
   "metadata": {},
   "outputs": [],
   "source": [
    "x = 5\n",
    "x = x + 2\n",
    "print(x)"
   ]
  },
  {
   "cell_type": "markdown",
   "metadata": {
    "deletable": false,
    "editable": false,
    "nbgrader": {
     "cell_type": "markdown",
     "checksum": "038f6709f55aa24c539929d0c59ced68",
     "grade": false,
     "grade_id": "cell-62fb5c57df0f3e7a",
     "locked": true,
     "schema_version": 3,
     "solution": false,
     "task": false
    }
   },
   "source": [
    "This produces the output you might expect, the exact the same result as executing that bit of *Python* code in a terminal. You can modify the contents of the code cell and run it again with `Shift-Enter` to see how the output changes.\n",
    "\n",
    "Global variables are shared between cells. This means we can still use variables or functions from the first cell in a second cell, like so"
   ]
  },
  {
   "cell_type": "code",
   "execution_count": null,
   "metadata": {},
   "outputs": [],
   "source": [
    "y = 2 * x\n",
    "print(y)"
   ]
  },
  {
   "cell_type": "markdown",
   "metadata": {
    "deletable": false,
    "editable": false,
    "nbgrader": {
     "cell_type": "markdown",
     "checksum": "87d9af9bdf9292540f1bfa2be6ebd356",
     "grade": false,
     "grade_id": "cell-b3c6c39e43756081",
     "locked": true,
     "schema_version": 3,
     "solution": false,
     "task": false
    }
   },
   "source": [
    "Notebooks are expected to be run top to bottom, starting with the first cell and ending with the last. **Failing to run some cells or running cells out of order is likely to result in errors.** For example, if we were to run the second cell before the first has been run the first, we would get an error saying `x` is not defined.\n",
    "\n",
    "Before you hand in this exercise, make sure that it can run without errors from top to bottom. Test this by selecting *Kernel -> Restart & Run All* in the menu.\n",
    "\n",
    "Now to the actual assignment:"
   ]
  },
  {
   "cell_type": "markdown",
   "metadata": {
    "deletable": false,
    "editable": false,
    "nbgrader": {
     "cell_type": "markdown",
     "checksum": "3d3f2e37d0868f97886f08c201228d76",
     "grade": false,
     "grade_id": "cell-e156d3a02cc85105",
     "locked": true,
     "schema_version": 3,
     "solution": false,
     "task": false
    }
   },
   "source": [
    "# Pandas\n",
    "\n",
    "In this series of exercises you will learn to use the library `pandas`. Pandas is a very popular library for storing and manipualting data. For the exercises in this notebook, we will be relying on the following sources:\n",
    "- Chapter 3 from the [Python Data Science Handbook](https://jakevdp.github.io/PythonDataScienceHandbook/)\n",
    "- The official Pandas documentation: [Pandas Documentation](https://pandas.pydata.org/)\n",
    "\n",
    "**All of these exercises are able to be done in one or two lines of code. If you feel like you need more lines of code, you should look at the available functions for `pandas` again. This might be difficult and time consuming now, but will save you _a lot_ of time in the future!**"
   ]
  },
  {
   "cell_type": "markdown",
   "metadata": {
    "deletable": false,
    "editable": false,
    "nbgrader": {
     "cell_type": "markdown",
     "checksum": "b74089855c289f0e4d9f4a0dcf0586cf",
     "grade": false,
     "grade_id": "cell-e293e349bf745fb4",
     "locked": true,
     "schema_version": 3,
     "solution": false,
     "task": false
    }
   },
   "source": [
    "## Series \n",
    "\n",
    "Start by reading the introduction of `pandas` objects [here](https://jakevdp.github.io/PythonDataScienceHandbook/03.01-introducing-pandas-objects.html).\n",
    "\n",
    "Then, run the cell below to import the necessary libraries. In our distribution, we've also included a file named `answers.py`, which we will also import below. After each set of exercises, a function from `answers.py` is called that will check your answers and provide feedback in the form of assertions."
   ]
  },
  {
   "cell_type": "code",
   "execution_count": null,
   "metadata": {
    "deletable": false,
    "editable": false,
    "nbgrader": {
     "cell_type": "code",
     "checksum": "1c37e6b8f5571bc5bc034d7c3eb0f54e",
     "grade": false,
     "grade_id": "cell-1673500799a83b53",
     "locked": true,
     "schema_version": 3,
     "solution": false,
     "task": false
    }
   },
   "outputs": [],
   "source": [
    "from pandas import Series\n",
    "import pandas as pd\n",
    "import answers"
   ]
  },
  {
   "cell_type": "markdown",
   "metadata": {
    "deletable": false,
    "editable": false,
    "nbgrader": {
     "cell_type": "markdown",
     "checksum": "85f9dfab5b2cbc3f1fba83aba689ef4a",
     "grade": false,
     "grade_id": "cell-balabla",
     "locked": true,
     "schema_version": 3,
     "solution": false,
     "task": false
    }
   },
   "source": [
    "### Exercise 1\n",
    "\n",
    "Create a `Series`-object named `income` containing the following *figures* and using the *sources* as its index."
   ]
  },
  {
   "cell_type": "code",
   "execution_count": null,
   "metadata": {
    "deletable": false,
    "nbgrader": {
     "cell_type": "code",
     "checksum": "496a195c59aec538f41dfe0230eaec11",
     "grade": false,
     "grade_id": "cell-08d1e678831a6cb7",
     "locked": false,
     "schema_version": 3,
     "solution": true,
     "task": false
    }
   },
   "outputs": [],
   "source": [
    "from pandas import Series\n",
    "import pandas as pd\n",
    "\n",
    "income_sources = [\"sales\", \"ads\", \"subscriptions\", \"donations\"]\n",
    "income_figures = [39041, 8702, 13200, 292]\n",
    "\n",
    "income = None\n",
    "\n",
    "# your code here\n",
    "\n",
    "display(income)"
   ]
  },
  {
   "cell_type": "markdown",
   "metadata": {
    "deletable": false,
    "editable": false,
    "nbgrader": {
     "cell_type": "markdown",
     "checksum": "156804e3fc56d5978d8887348a834eae",
     "grade": false,
     "grade_id": "cell-e27dca2ead4106cd",
     "locked": true,
     "schema_version": 3,
     "solution": false,
     "task": false
    }
   },
   "source": [
    "Check your answer by running the cell below."
   ]
  },
  {
   "cell_type": "code",
   "execution_count": null,
   "metadata": {
    "deletable": false,
    "editable": false,
    "nbgrader": {
     "cell_type": "code",
     "checksum": "311155226306803ed1d78dd4a268741d",
     "grade": true,
     "grade_id": "cell-f63a1720e0929f28",
     "locked": true,
     "points": 0,
     "schema_version": 3,
     "solution": false,
     "task": false
    }
   },
   "outputs": [],
   "source": [
    "answers.test_1(income)"
   ]
  },
  {
   "cell_type": "markdown",
   "metadata": {
    "deletable": false,
    "editable": false,
    "nbgrader": {
     "cell_type": "markdown",
     "checksum": "8f388f55859097a74839a4f97732e6e4",
     "grade": false,
     "grade_id": "cell-e155697815e0e693",
     "locked": true,
     "schema_version": 3,
     "solution": false,
     "task": false
    }
   },
   "source": [
    "### Exercise 2\n",
    "\n",
    "Create a `Series` named `expenses` that uses the expense information below. Also create a `Series` named `profits` with the profit (income minus expenses). Create a variable named `total_profit` with the sum of all profits in `profits`."
   ]
  },
  {
   "cell_type": "code",
   "execution_count": null,
   "metadata": {
    "deletable": false,
    "nbgrader": {
     "cell_type": "code",
     "checksum": "4a941f71e5f06af442d8b2c99b082d78",
     "grade": false,
     "grade_id": "cell-0df7100d19df7b7f",
     "locked": false,
     "schema_version": 3,
     "solution": true,
     "task": false
    }
   },
   "outputs": [],
   "source": [
    "expense_sources = [\"ads\", \"sales\", \"donations\", \"subscriptions\"]\n",
    "expense_figures = [4713, 24282, 0, 3302]\n",
    "\n",
    "# your code here\n",
    "\n",
    "print(total_profit)"
   ]
  },
  {
   "cell_type": "markdown",
   "metadata": {
    "deletable": false,
    "editable": false,
    "nbgrader": {
     "cell_type": "markdown",
     "checksum": "221790164142a43aa561e50cf9002b95",
     "grade": false,
     "grade_id": "cell-1de0b0a2a7c76250",
     "locked": true,
     "schema_version": 3,
     "solution": false,
     "task": false
    }
   },
   "source": [
    "Check your answer by running the cell below."
   ]
  },
  {
   "cell_type": "code",
   "execution_count": null,
   "metadata": {
    "deletable": false,
    "editable": false,
    "nbgrader": {
     "cell_type": "code",
     "checksum": "ff9fa013bf2a3480475fe1d04dc699ce",
     "grade": true,
     "grade_id": "cell-655e507dda0095be",
     "locked": true,
     "points": 0,
     "schema_version": 3,
     "solution": false,
     "task": false
    }
   },
   "outputs": [],
   "source": [
    "answers.test_2(expenses, profits, total_profit)"
   ]
  },
  {
   "cell_type": "markdown",
   "metadata": {
    "deletable": false,
    "editable": false,
    "nbgrader": {
     "cell_type": "markdown",
     "checksum": "3da312911734b0672146790dc4b2d1e9",
     "grade": false,
     "grade_id": "cell-db980f180e853f8a",
     "locked": true,
     "schema_version": 3,
     "solution": false,
     "task": false
    }
   },
   "source": [
    "## DataFrames\n",
    "\n",
    "### Exercise 3\n",
    "\n",
    "Create a `DataFrame` named `skittles` with the *columns* `amount` and `rating`, using the different colors as the *index*.\n",
    "\n",
    "|&nbsp;      | amount | rating |\n",
    "|------------|--------|--------|\n",
    "| **red**    | 7      | 3      |\n",
    "| **green**  | 4      | 4      |\n",
    "| **blue**   | 6      | 2      |\n",
    "| **purple** | 5      | 4      |\n",
    "| **pink**   | 6      | 3.5    |\n",
    "\n",
    "Using `Jupyter`'s `display()` makes sure we get a nicely formatted table."
   ]
  },
  {
   "cell_type": "code",
   "execution_count": null,
   "metadata": {
    "deletable": false,
    "nbgrader": {
     "cell_type": "code",
     "checksum": "804191c8bbfe049917ea1f4782887a1e",
     "grade": false,
     "grade_id": "cell-9c6637d8f47dcc08",
     "locked": false,
     "schema_version": 3,
     "solution": true,
     "task": false
    }
   },
   "outputs": [],
   "source": [
    "from pandas import DataFrame\n",
    "\n",
    "# your code here\n",
    "\n",
    "display(skittles)"
   ]
  },
  {
   "cell_type": "markdown",
   "metadata": {
    "deletable": false,
    "editable": false,
    "nbgrader": {
     "cell_type": "markdown",
     "checksum": "5506990c2cc70bf2833c3882e2eb3cb1",
     "grade": false,
     "grade_id": "cell-q2ddc345e46",
     "locked": true,
     "schema_version": 3,
     "solution": false,
     "task": false
    }
   },
   "source": [
    "Check your answer by running the cell below."
   ]
  },
  {
   "cell_type": "code",
   "execution_count": null,
   "metadata": {
    "deletable": false,
    "editable": false,
    "nbgrader": {
     "cell_type": "code",
     "checksum": "3d345fecb371a034f33098143510885a",
     "grade": true,
     "grade_id": "cell-1c954e8d9484f4be",
     "locked": true,
     "points": 1,
     "schema_version": 3,
     "solution": false,
     "task": false
    }
   },
   "outputs": [],
   "source": [
    "answers.test_3(skittles)"
   ]
  },
  {
   "cell_type": "markdown",
   "metadata": {
    "deletable": false,
    "editable": false,
    "nbgrader": {
     "cell_type": "markdown",
     "checksum": "de7fb79626b551b4600b1c5d3fbb2a9f",
     "grade": false,
     "grade_id": "cell-d16475de8a3e3014",
     "locked": true,
     "schema_version": 3,
     "solution": false,
     "task": false
    }
   },
   "source": [
    "### Exercise 4\n",
    "\n",
    "Calculate the mean `rating` and save as `skittles_average`."
   ]
  },
  {
   "cell_type": "code",
   "execution_count": null,
   "metadata": {
    "deletable": false,
    "nbgrader": {
     "cell_type": "code",
     "checksum": "6fcb31817d373c316dc9a297c7a089bf",
     "grade": false,
     "grade_id": "cell-3cd5760702610631",
     "locked": false,
     "schema_version": 3,
     "solution": true,
     "task": false
    }
   },
   "outputs": [],
   "source": [
    "# your code here\n",
    "\n",
    "display(skittles_average)"
   ]
  },
  {
   "cell_type": "markdown",
   "metadata": {
    "deletable": false,
    "editable": false,
    "nbgrader": {
     "cell_type": "markdown",
     "checksum": "d754111e831fb3a7081c5530b399a197",
     "grade": false,
     "grade_id": "cell-q2ddcesdf46",
     "locked": true,
     "schema_version": 3,
     "solution": false,
     "task": false
    }
   },
   "source": [
    "Check your answer by running the cell below."
   ]
  },
  {
   "cell_type": "code",
   "execution_count": null,
   "metadata": {
    "deletable": false,
    "editable": false,
    "nbgrader": {
     "cell_type": "code",
     "checksum": "5c4cf668dacd4c91096fb6522b29abeb",
     "grade": true,
     "grade_id": "cell-4a63780e28d4318f",
     "locked": true,
     "points": 1,
     "schema_version": 3,
     "solution": false,
     "task": false
    }
   },
   "outputs": [],
   "source": [
    "answers.test_4(skittles_average)"
   ]
  },
  {
   "cell_type": "markdown",
   "metadata": {
    "deletable": false,
    "editable": false,
    "nbgrader": {
     "cell_type": "markdown",
     "checksum": "855783c92f94e7e22414f6269a4d6f9f",
     "grade": false,
     "grade_id": "cell-39f6de36e08a7146",
     "locked": true,
     "schema_version": 3,
     "solution": false,
     "task": false
    }
   },
   "source": [
    "### Exercise 5\n",
    "\n",
    "Add a new column to the skittles `DataFrame` named `score`. The score of a color is equal to `amount * rating`."
   ]
  },
  {
   "cell_type": "code",
   "execution_count": null,
   "metadata": {
    "deletable": false,
    "nbgrader": {
     "cell_type": "code",
     "checksum": "d1766fd2403b0274b9af456003f45943",
     "grade": false,
     "grade_id": "cell-44c741b6c7562337",
     "locked": false,
     "schema_version": 3,
     "solution": true,
     "task": false
    }
   },
   "outputs": [],
   "source": [
    "# your code here\n",
    "display(skittles)"
   ]
  },
  {
   "cell_type": "markdown",
   "metadata": {
    "deletable": false,
    "editable": false,
    "nbgrader": {
     "cell_type": "markdown",
     "checksum": "7040cfcb4dc1cd7f6e749399c6881e54",
     "grade": false,
     "grade_id": "cell-q2ddsdce46",
     "locked": true,
     "schema_version": 3,
     "solution": false,
     "task": false
    }
   },
   "source": [
    "Check your answer by running the cell below."
   ]
  },
  {
   "cell_type": "code",
   "execution_count": null,
   "metadata": {
    "deletable": false,
    "editable": false,
    "nbgrader": {
     "cell_type": "code",
     "checksum": "0bab19228f456ad1d13360dbac032fb6",
     "grade": true,
     "grade_id": "cell-8d4b31a62e056a4c",
     "locked": true,
     "points": 1,
     "schema_version": 3,
     "solution": false,
     "task": false
    }
   },
   "outputs": [],
   "source": [
    "assert \"score\" in skittles"
   ]
  },
  {
   "cell_type": "markdown",
   "metadata": {
    "deletable": false,
    "editable": false,
    "nbgrader": {
     "cell_type": "markdown",
     "checksum": "c177b1551e14d33a93ddc26e089b486b",
     "grade": false,
     "grade_id": "cell-cc6978bc2a03800b",
     "locked": true,
     "schema_version": 3,
     "solution": false,
     "task": false
    }
   },
   "source": [
    "## Indexing and selection\n",
    "\n",
    "Read the [next](https://jakevdp.github.io/PythonDataScienceHandbook/03.02-data-indexing-and-selection.html) part of the reference.\n",
    "\n",
    "### Exercise 6\n",
    "\n",
    "For the given `DataFrame` select only columns 'a', 'c', and 'e', and rows 10, 20, 50, 60 and store the result again in the variable `frame`. As a clarification, the original `DataFrame` looks like:\n",
    "\n",
    "<table border=\"1\" class=\"dataframe\">  <thead>    <tr style=\"text-align: right;\">      <th></th>      <th>a</th>      <th>b</th>      <th>c</th>      <th>d</th>      <th>e</th>      <th>f</th>      <th>g</th>    </tr>  </thead>  <tbody>    <tr>      <th>10</th>      <td>0.0</td>      <td>1.0</td>      <td>2.0</td>      <td>3.0</td>      <td>4.0</td>      <td>5.0</td>      <td>6.0</td>    </tr>    <tr>      <th>20</th>      <td>7.0</td>      <td>8.0</td>      <td>9.0</td>      <td>10.0</td>      <td>11.0</td>      <td>12.0</td>      <td>13.0</td>    </tr>    <tr>      <th>30</th>      <td>14.0</td>      <td>15.0</td>      <td>16.0</td>      <td>17.0</td>      <td>18.0</td>      <td>19.0</td>      <td>20.0</td>    </tr>    <tr>      <th>40</th>      <td>21.0</td>      <td>22.0</td>      <td>23.0</td>      <td>24.0</td>      <td>25.0</td>      <td>26.0</td>      <td>27.0</td>    </tr>    <tr>      <th>50</th>      <td>28.0</td>      <td>29.0</td>      <td>30.0</td>      <td>31.0</td>      <td>32.0</td>      <td>33.0</td>      <td>34.0</td>    </tr>    <tr>      <th>60</th>      <td>35.0</td>      <td>36.0</td>      <td>37.0</td>      <td>38.0</td>      <td>39.0</td>      <td>40.0</td>      <td>41.0</td>    </tr>  </tbody></table>\n",
    "\n",
    "Select the appropriate columns and rows, such that it looks like::\n",
    "\n",
    "<table border=\"1\" class=\"dataframe\">  <thead>    <tr style=\"text-align: right;\">      <th></th>      <th>a</th>      <th>c</th>      <th>e</th>    </tr>  </thead>  <tbody>    <tr>      <th>10</th>      <td>0.0</td>      <td>2.0</td>      <td>4.0</td>    </tr>    <tr>      <th>20</th>      <td>7.0</td>      <td>9.0</td>      <td>11.0</td>    </tr>    <tr>      <th>50</th>      <td>28.0</td>      <td>30.0</td>      <td>32.0</td>    </tr>    <tr>      <th>60</th>      <td>35.0</td>      <td>37.0</td>      <td>39.0</td>    </tr>  </tbody></table>\n"
   ]
  },
  {
   "cell_type": "code",
   "execution_count": null,
   "metadata": {
    "deletable": false,
    "nbgrader": {
     "cell_type": "code",
     "checksum": "010241fc722bcaba8d1ec04e22113dad",
     "grade": false,
     "grade_id": "cell-a7305488e1ae7000",
     "locked": false,
     "schema_version": 3,
     "solution": true,
     "task": false
    }
   },
   "outputs": [],
   "source": [
    "import numpy as np\n",
    "\n",
    "frame = DataFrame(np.arange(6 * 7.).reshape((6, 7)), index=[10, 20, 30, 40, 50, 60], columns=list('abcdefg'))\n",
    "\n",
    "# your code here\n",
    "\n",
    "display(frame2)"
   ]
  },
  {
   "cell_type": "markdown",
   "metadata": {
    "deletable": false,
    "editable": false,
    "nbgrader": {
     "cell_type": "markdown",
     "checksum": "97ac8fb09dd26fa13ec4de2be9ae4465",
     "grade": false,
     "grade_id": "cell-q2ddwwwce46",
     "locked": true,
     "schema_version": 3,
     "solution": false,
     "task": false
    }
   },
   "source": [
    "Check your answer by running the cell below."
   ]
  },
  {
   "cell_type": "code",
   "execution_count": null,
   "metadata": {
    "deletable": false,
    "editable": false,
    "nbgrader": {
     "cell_type": "code",
     "checksum": "9981bf1e606baf63eb9f8b62e61bd1ed",
     "grade": true,
     "grade_id": "cell-6cf72e8c3526a88a",
     "locked": true,
     "points": 1,
     "schema_version": 3,
     "solution": false,
     "task": false
    }
   },
   "outputs": [],
   "source": [
    "answers.test_6(frame2)"
   ]
  },
  {
   "cell_type": "markdown",
   "metadata": {
    "deletable": false,
    "editable": false,
    "nbgrader": {
     "cell_type": "markdown",
     "checksum": "5222439f1c8c8bc0d90660bfd27ac751",
     "grade": false,
     "grade_id": "cell-1ff423e018fe6b17",
     "locked": true,
     "schema_version": 3,
     "solution": false,
     "task": false
    }
   },
   "source": [
    "### Exercise 7\n",
    "\n",
    "Masking is a very useful operation on Pandas DataFrames. Masking can also be used on Numpy arrays, and as such it will prove useful for future assignments. The book explains this concept, but very briefly. Read [the following webpage](https://jakevdp.github.io/PythonDataScienceHandbook/02.06-boolean-arrays-and-masks.html) to get a more thorough introduction into masking and use it to solve the following exercises.\n",
    "\n",
    "First, let's get a bit of practice in. Get a truth value array for all values in `frame` lower than 11, save it in a variable named `mask`, and then print `mask`."
   ]
  },
  {
   "cell_type": "code",
   "execution_count": null,
   "metadata": {
    "deletable": false,
    "nbgrader": {
     "cell_type": "code",
     "checksum": "7e34ab6179910ff41749effedecf0acf",
     "grade": false,
     "grade_id": "cell-ef582fc0d8594537",
     "locked": false,
     "schema_version": 3,
     "solution": true,
     "task": false
    }
   },
   "outputs": [],
   "source": [
    "frame = DataFrame(np.arange(6 * 7.).reshape((6, 7)), index=[10, 20, 30, 40, 50, 60], columns=list('abcdefg'))\n",
    "\n",
    "# your code here"
   ]
  },
  {
   "cell_type": "markdown",
   "metadata": {
    "deletable": false,
    "editable": false,
    "nbgrader": {
     "cell_type": "markdown",
     "checksum": "a0bd30fb7e1003d45bbc6fbc7870fcd2",
     "grade": false,
     "grade_id": "cell-dc66c0adff8ba003",
     "locked": true,
     "schema_version": 3,
     "solution": false,
     "task": false
    }
   },
   "source": [
    "Use the variable `mask` to change the values of all integers lower than 11 to the value 10 in the DataFrame `frame`. Make sure that the values actually are overwritten by displaying `frame`."
   ]
  },
  {
   "cell_type": "code",
   "execution_count": null,
   "metadata": {
    "deletable": false,
    "nbgrader": {
     "cell_type": "code",
     "checksum": "b193aa2af168e6546648b3dfd4722c5e",
     "grade": false,
     "grade_id": "cell-8a5e2795ebf26dbd",
     "locked": false,
     "schema_version": 3,
     "solution": true,
     "task": false
    }
   },
   "outputs": [],
   "source": [
    "# your code here\n",
    "\n",
    "display(frame)"
   ]
  },
  {
   "cell_type": "markdown",
   "metadata": {
    "deletable": false,
    "editable": false,
    "nbgrader": {
     "cell_type": "markdown",
     "checksum": "92780835501966e7fe389e8128be82f4",
     "grade": false,
     "grade_id": "cell-4063d20de6e88059",
     "locked": true,
     "schema_version": 3,
     "solution": false,
     "task": false
    }
   },
   "source": [
    "Now that we've done a bit of practice, we can do something slightly more difficult. Replace all values in the data frame `frame` that are *divisible by 3* with the value *0*. Store the result in `frame`. Use the `%` (modulo) operator!"
   ]
  },
  {
   "cell_type": "code",
   "execution_count": null,
   "metadata": {
    "deletable": false,
    "nbgrader": {
     "cell_type": "code",
     "checksum": "9070ea7362b7e1f0ba517595d44eb2b3",
     "grade": false,
     "grade_id": "cell-a0d227a359b7a2d8",
     "locked": false,
     "schema_version": 3,
     "solution": true,
     "task": false
    }
   },
   "outputs": [],
   "source": [
    "frame = DataFrame(np.arange(6 * 7.).reshape((6, 7)), index=[10, 20, 30, 40, 50, 60], columns=list('abcdefg'))\n",
    "\n",
    "# your code here\n",
    "\n",
    "display(frame)"
   ]
  },
  {
   "cell_type": "markdown",
   "metadata": {
    "deletable": false,
    "editable": false,
    "nbgrader": {
     "cell_type": "markdown",
     "checksum": "4e408a0e0448bcc6f56e5464c3216e96",
     "grade": false,
     "grade_id": "cell-q2dd333ce46",
     "locked": true,
     "schema_version": 3,
     "solution": false,
     "task": false
    }
   },
   "source": [
    "Check your answer by running the cell below."
   ]
  },
  {
   "cell_type": "code",
   "execution_count": null,
   "metadata": {
    "deletable": false,
    "editable": false,
    "nbgrader": {
     "cell_type": "code",
     "checksum": "9326b8662f45148cfdc173a0c9faba44",
     "grade": true,
     "grade_id": "cell-d3178809b040bf79",
     "locked": true,
     "points": 1,
     "schema_version": 3,
     "solution": false,
     "task": false
    }
   },
   "outputs": [],
   "source": [
    "answers.test_7(frame)"
   ]
  },
  {
   "cell_type": "markdown",
   "metadata": {
    "deletable": false,
    "editable": false,
    "nbgrader": {
     "cell_type": "markdown",
     "checksum": "7592cf2f4306a8354ce2d0364e4305c3",
     "grade": false,
     "grade_id": "cell-b0cc2afba8d064b6",
     "locked": true,
     "schema_version": 3,
     "solution": false,
     "task": false
    }
   },
   "source": [
    "## Operating on dataframes\n",
    "\n",
    "Read about [operations in pandas](https://jakevdp.github.io/PythonDataScienceHandbook/03.03-operations-in-pandas.html).\n",
    "\n",
    "### Exercise 8\n",
    "\n",
    "Create a `Series` named `series_c` with the result of the calculation `series_a - series_b`. Note that `series_a` and `series_b` do not use the same indexing. Replace any missing values in `series_b` with 0. Values that are in `series_b` but not in `series_a` need not be in `series_c`.\n",
    "\n",
    "**Hint:** An easy way to get all indices and filter on them is by using `Dataframe.index` or `Series.index`. These can be used as a _mask_ to only get the indices you want!"
   ]
  },
  {
   "cell_type": "code",
   "execution_count": null,
   "metadata": {
    "deletable": false,
    "nbgrader": {
     "cell_type": "code",
     "checksum": "0c6bbb8af806c2951e2cfcd6a0e470ad",
     "grade": false,
     "grade_id": "cell-65a850d571a08e13",
     "locked": false,
     "schema_version": 3,
     "solution": true,
     "task": false
    }
   },
   "outputs": [],
   "source": [
    "series_a = Series([500, 400, 300, 200, 100], index=[\"a\", \"b\", \"c \", \"d\", \"e\"])\n",
    "series_b = Series([23, 46, 67, 79], index=[\"a\", \"c \", \"f\", \"g\"])\n",
    "series_c = None\n",
    "\n",
    "# your code here\n",
    "\n",
    "display(series_c)"
   ]
  },
  {
   "cell_type": "markdown",
   "metadata": {
    "deletable": false,
    "editable": false,
    "nbgrader": {
     "cell_type": "markdown",
     "checksum": "6d20be6d0c0167a0e09f7550c421e971",
     "grade": false,
     "grade_id": "cell-fdspppp123",
     "locked": true,
     "schema_version": 3,
     "solution": false,
     "task": false
    }
   },
   "source": [
    "Check your answer by running the cell below."
   ]
  },
  {
   "cell_type": "code",
   "execution_count": null,
   "metadata": {
    "deletable": false,
    "editable": false,
    "nbgrader": {
     "cell_type": "code",
     "checksum": "7699a05e23ff7a731ab8af576e39584c",
     "grade": true,
     "grade_id": "cell-f2e1aaa735d7b5ee",
     "locked": true,
     "points": 0,
     "schema_version": 3,
     "solution": false,
     "task": false
    }
   },
   "outputs": [],
   "source": [
    "answers.test_8(series_a, series_b, series_c)"
   ]
  },
  {
   "cell_type": "markdown",
   "metadata": {
    "deletable": false,
    "editable": false,
    "nbgrader": {
     "cell_type": "markdown",
     "checksum": "38f3b59c576b1bb47a9947b6c15108dc",
     "grade": false,
     "grade_id": "cell-92d82e2a5554465d",
     "locked": true,
     "schema_version": 3,
     "solution": false,
     "task": false
    }
   },
   "source": [
    "## Map\n",
    "\n",
    "`pandas` has it's own `map()` function! It maps a function to every element of a `Series` or `DataFrame` and gives back a new `Series` or `DataFrame`. As an example:\n",
    "\n",
    "```Py\n",
    "tokens = Series([\"hello\", \" \", \"world!\"])\n",
    "\n",
    "lengths = []\n",
    "for token in tokens:\n",
    "    lengths.append(len(token))\n",
    "lenghts = Series(lengths)\n",
    "```\n",
    "\n",
    "Can be converted to:\n",
    "\n",
    "```Py\n",
    "tokens = Series([\"hello\", \" \", \"world!\"])\n",
    "lengths = tokens.map(len)\n",
    "```\n",
    "\n",
    "### Exercise 9\n",
    "\n",
    "Convert all words in the `Series` `words` to lowercase. Use `<str>.lower()` and the `map()` function."
   ]
  },
  {
   "cell_type": "code",
   "execution_count": null,
   "metadata": {
    "deletable": false,
    "nbgrader": {
     "cell_type": "code",
     "checksum": "fc760b222fadb943914ed77f34fc6421",
     "grade": false,
     "grade_id": "cell-2b1c1839014b7bb7",
     "locked": false,
     "schema_version": 3,
     "solution": true,
     "task": false
    }
   },
   "outputs": [],
   "source": [
    "words = Series([\"foo\", \"Bar\", \"baz\", \"QUX\", \"QuUuX\"])\n",
    "\n",
    "# your code here\n",
    "\n",
    "display(words)"
   ]
  },
  {
   "cell_type": "markdown",
   "metadata": {
    "deletable": false,
    "editable": false,
    "nbgrader": {
     "cell_type": "markdown",
     "checksum": "76af73100c55f55286c6c900438e4f97",
     "grade": false,
     "grade_id": "cell-q2ddce90j46",
     "locked": true,
     "schema_version": 3,
     "solution": false,
     "task": false
    }
   },
   "source": [
    "Check your answer by running the cell below."
   ]
  },
  {
   "cell_type": "code",
   "execution_count": null,
   "metadata": {
    "deletable": false,
    "editable": false,
    "nbgrader": {
     "cell_type": "code",
     "checksum": "88dbd673b9a7079e2ec8fe74e54f077e",
     "grade": true,
     "grade_id": "cell-0146d3cab03d2489",
     "locked": true,
     "points": 0,
     "schema_version": 3,
     "solution": false,
     "task": false
    }
   },
   "outputs": [],
   "source": [
    "answers.test_9(words)"
   ]
  },
  {
   "cell_type": "markdown",
   "metadata": {
    "deletable": false,
    "editable": false,
    "nbgrader": {
     "cell_type": "markdown",
     "checksum": "734bd184677d75e844cb2d76a0312ca8",
     "grade": false,
     "grade_id": "cell-d814292f9717a193",
     "locked": true,
     "schema_version": 3,
     "solution": false,
     "task": false
    }
   },
   "source": [
    "### Exercise 10\n",
    "\n",
    "Sort `frame` on column `c` in descending order and store the solution in `frame`."
   ]
  },
  {
   "cell_type": "code",
   "execution_count": null,
   "metadata": {
    "deletable": false,
    "nbgrader": {
     "cell_type": "code",
     "checksum": "f21832842f3598eb12e37e23aa268428",
     "grade": false,
     "grade_id": "cell-aeaf0687179d5b33",
     "locked": false,
     "schema_version": 3,
     "solution": true,
     "task": false
    }
   },
   "outputs": [],
   "source": [
    "data = [[0.691074, -1.272521, -0.968045, -2.066171, -0.670358, 1.399483, -1.148168], \n",
    "        [1.75378, 2.409629, 1.842674, 0.754906, -0.115614, 0.877219, 1.599362], \n",
    "        [-1.41176, 1.103801, 1.216514, 0.548866, 2.255482, -0.176342, 0.965265], \n",
    "        [-0.741689, 0.216645, -0.278025, 0.777175, 0.869239, -0.943004, -0.140957], \n",
    "        [-1.58593, 1.1796, -0.702286, 2.367875, 0.592748, 1.386158, 0.535978], \n",
    "        [0.58498, 0.62389, -0.425614, 0.530479, -1.818631, -1.593188, 1.591233]]\n",
    "\n",
    "frame = DataFrame(data, columns=list('abcdefg'))\n",
    "\n",
    "# your code here\n",
    "\n",
    "display(frame)"
   ]
  },
  {
   "cell_type": "markdown",
   "metadata": {
    "deletable": false,
    "editable": false,
    "nbgrader": {
     "cell_type": "markdown",
     "checksum": "1ee5432075ec30fc1ae053d3ed7571af",
     "grade": false,
     "grade_id": "cell-q2ddce46",
     "locked": true,
     "schema_version": 3,
     "solution": false,
     "task": false
    }
   },
   "source": [
    "Check your answer by running the cell below."
   ]
  },
  {
   "cell_type": "code",
   "execution_count": null,
   "metadata": {
    "deletable": false,
    "editable": false,
    "nbgrader": {
     "cell_type": "code",
     "checksum": "e51e6b24ab06b3cd97b55ae4f02cc828",
     "grade": true,
     "grade_id": "cell-8f432c8accccdef3",
     "locked": true,
     "points": 0,
     "schema_version": 3,
     "solution": false,
     "task": false
    }
   },
   "outputs": [],
   "source": [
    "answers.test_10(frame)"
   ]
  },
  {
   "cell_type": "markdown",
   "metadata": {
    "deletable": false,
    "editable": false,
    "nbgrader": {
     "cell_type": "markdown",
     "checksum": "34e3d8c1d2702c6a622b15b880794e48",
     "grade": false,
     "grade_id": "cell-6b49bad5c5897d93",
     "locked": true,
     "schema_version": 3,
     "solution": false,
     "task": false
    }
   },
   "source": [
    "## Missing values\n",
    "\n",
    "Read about [Handling Missing Data](https://jakevdp.github.io/PythonDataScienceHandbook/03.04-missing-values.html)\n",
    "\n",
    "### Exercise 11\n",
    "\n",
    "In the `Series` `speeds` below, fill in the missing values. Use the speed from the previous datapoint available that is up to 3 datapoints away. Delete any datapoints that still do not have values afterwards.\n",
    "\n",
    "**Hint:** take a good look at the [`fillna()`](https://pandas.pydata.org/docs/reference/api/pandas.Series.fillna.html) documentation to see if there is some parameters that help here."
   ]
  },
  {
   "cell_type": "code",
   "execution_count": null,
   "metadata": {
    "deletable": false,
    "nbgrader": {
     "cell_type": "code",
     "checksum": "de23a2446d30509b50138605942f7678",
     "grade": false,
     "grade_id": "cell-b3792dcee9520460",
     "locked": false,
     "schema_version": 3,
     "solution": true,
     "task": false
    }
   },
   "outputs": [],
   "source": [
    "speeds = Series(\n",
    "         [49, 51, None, None, 50, 48, 47, 50,\n",
    "          51, 47, 46, None, 46, 48, 48, 48,\n",
    "          None, 49, None, None, None, None,\n",
    "          None, 50, 50, 50, 51, 52, 51, 50,\n",
    "          None, 50, None, None, None, None,\n",
    "          None, 50, 49, 48, 49, None, 50, 50, 49])\n",
    "\n",
    "# your code here\n",
    "\n",
    "display(speeds)"
   ]
  },
  {
   "cell_type": "markdown",
   "metadata": {
    "deletable": false,
    "editable": false,
    "nbgrader": {
     "cell_type": "markdown",
     "checksum": "393234321e149728371f30415e43a50a",
     "grade": false,
     "grade_id": "cell-fsdffdsaa",
     "locked": true,
     "schema_version": 3,
     "solution": false,
     "task": false
    }
   },
   "source": [
    "Check your answer by running the cell below."
   ]
  },
  {
   "cell_type": "code",
   "execution_count": null,
   "metadata": {
    "deletable": false,
    "editable": false,
    "nbgrader": {
     "cell_type": "code",
     "checksum": "911334c741e72f206844640b4b82396d",
     "grade": true,
     "grade_id": "cell-bb118106c1321864",
     "locked": true,
     "points": 0,
     "schema_version": 3,
     "solution": false,
     "task": false
    }
   },
   "outputs": [],
   "source": [
    "answers.test_11(speeds)"
   ]
  }
 ],
 "metadata": {
  "kernelspec": {
   "display_name": "Python 3 (ipykernel)",
   "language": "python",
   "name": "python3"
  },
  "language_info": {
   "codemirror_mode": {
    "name": "ipython",
    "version": 3
   },
   "file_extension": ".py",
   "mimetype": "text/x-python",
   "name": "python",
   "nbconvert_exporter": "python",
   "pygments_lexer": "ipython3",
   "version": "3.7.11"
  }
 },
 "nbformat": 4,
 "nbformat_minor": 2
}
