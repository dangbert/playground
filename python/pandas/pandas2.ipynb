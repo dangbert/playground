{
 "cells": [
  {
   "cell_type": "markdown",
   "metadata": {
    "deletable": false,
    "editable": false,
    "nbgrader": {
     "cell_type": "markdown",
     "checksum": "cbf61282182ac2d56b172c57d1026cc7",
     "grade": false,
     "grade_id": "cell-5fb30a6de6d5f77e",
     "locked": true,
     "schema_version": 3,
     "solution": false,
     "task": false
    }
   },
   "source": [
    "# Pandas 2: Group, Explode, Pivot\n",
    "\n",
    "In this notebook you will practice some more advanced concepts from Pandas: Group, Explode and Pivot\n",
    "\n",
    "## Getting started\n",
    "\n",
    "Load the libraries:"
   ]
  },
  {
   "cell_type": "code",
   "execution_count": null,
   "metadata": {
    "deletable": false,
    "editable": false,
    "nbgrader": {
     "cell_type": "code",
     "checksum": "2fbdfb1f1de1588d2468274718b95be5",
     "grade": false,
     "grade_id": "cell-ff079defbf8e4712",
     "locked": true,
     "schema_version": 3,
     "solution": false,
     "task": false
    }
   },
   "outputs": [],
   "source": [
    "import pandas as pd\n",
    "import answers"
   ]
  },
  {
   "cell_type": "markdown",
   "metadata": {
    "deletable": false,
    "editable": false,
    "nbgrader": {
     "cell_type": "markdown",
     "checksum": "25c1e8ddd93e594a6997a0f3983794a4",
     "grade": false,
     "grade_id": "cell-cb4ec429ecec6181",
     "locked": true,
     "schema_version": 3,
     "solution": false,
     "task": false
    }
   },
   "source": [
    "\n",
    "# Grouping\n",
    "\n",
    "Read about [grouping data](https://jakevdp.github.io/PythonDataScienceHandbook/03.08-aggregation-and-grouping.html).\n",
    "\n",
    "### Exercise 12\n",
    "\n",
    "Given the `grades` DataFrame below, group the data the course name. Do the following:\n",
    "\n",
    "- Create a grouping, on the course name, called `groups`.\n",
    "- Use a `for` loop to loop over the content of `groups`. Print the name and content of each group.\n",
    "- Generate a `Series` called `average_course_grade` containing the average grade for both courses.\n",
    "- Generate a `Series` called `student_count` containing the total number of students for both courses."
   ]
  },
  {
   "cell_type": "code",
   "execution_count": null,
   "metadata": {
    "deletable": false,
    "nbgrader": {
     "cell_type": "code",
     "checksum": "59eb6b58928b6c0492f2aaa23c582036",
     "grade": false,
     "grade_id": "cell-1f1399d0184cd068",
     "locked": false,
     "schema_version": 3,
     "solution": true,
     "task": false
    }
   },
   "outputs": [],
   "source": [
    "grades = pd.DataFrame([[\"Pascal\", \"Programming 2\", 7.0], [\"Morty\", \"Programming 1\", 5.5], \n",
    "                       [\"Slartibartfast\", \"Programming 1\", 6.5], [\"Ursula\", \"Programming 1\", 9.5],\n",
    "                       [\"Morty\", \"Programming 2\", 3.5], [\"Marge\", \"Programming 1\", 8.0],\n",
    "                       [\"Ursula\", \"Programming 2\", 9.0]], \n",
    "                       columns = [\"student_name\", \"course_name\", \"grade\"])\n",
    "                      \n",
    "# your code here\n",
    "\n",
    "display(average_course_grade)\n",
    "display(student_count)"
   ]
  },
  {
   "cell_type": "markdown",
   "metadata": {
    "deletable": false,
    "editable": false,
    "nbgrader": {
     "cell_type": "markdown",
     "checksum": "32b1961877a9742c4626684bd2603b80",
     "grade": false,
     "grade_id": "cell-a4ba222a8e8e1017",
     "locked": true,
     "schema_version": 3,
     "solution": false,
     "task": false
    }
   },
   "source": [
    "Check your answer by running the cell below."
   ]
  },
  {
   "cell_type": "code",
   "execution_count": null,
   "metadata": {
    "deletable": false,
    "editable": false,
    "nbgrader": {
     "cell_type": "code",
     "checksum": "9ec4535c4bc0ab49abb28b66f4c6513b",
     "grade": true,
     "grade_id": "cell-0c025948f6b918d6",
     "locked": true,
     "points": 0,
     "schema_version": 3,
     "solution": false,
     "task": false
    }
   },
   "outputs": [],
   "source": [
    "answers.test_12(average_course_grade, student_count)"
   ]
  },
  {
   "cell_type": "markdown",
   "metadata": {
    "deletable": false,
    "editable": false,
    "nbgrader": {
     "cell_type": "markdown",
     "checksum": "c42185e07a16672694bd5906bd53614e",
     "grade": false,
     "grade_id": "cell-836720243361471e",
     "locked": true,
     "schema_version": 3,
     "solution": false,
     "task": false
    }
   },
   "source": [
    "You can also use the `head(n)` method as an agregate function similar to `count()` or `mean()`. IT will yield the first `n` entries for each group. Read more about [groupby + head](https://pandas.pydata.org/pandas-docs/stable/reference/api/pandas.core.groupby.GroupBy.head.html).\n",
    "\n",
    "### Exercise 13\n",
    "\n",
    "Use `groupby` and `head` to select the **top two students** of each course of the `grades` DataFrame from above. Store the result in `top_students`.\n",
    "\n",
    "The result should look like this: \n",
    "\n",
    "      student_name    course_name  grade\n",
    "    3       Ursula  Programming 1    9.5\n",
    "    6       Ursula  Programming 2    9.0\n",
    "    5        Marge  Programming 1    8.0\n",
    "    1        Morty  Programming 2    5.5\n",
    "\n",
    "> **Hint:** you might have to sort the values of the grades DataFrame *before* doing the `groupby` operation. (`groupby` will preserve the order within groups)"
   ]
  },
  {
   "cell_type": "code",
   "execution_count": null,
   "metadata": {
    "deletable": false,
    "nbgrader": {
     "cell_type": "code",
     "checksum": "86723059f85a096d9284efb5da5d386a",
     "grade": false,
     "grade_id": "cell-59553ba3058941ed",
     "locked": false,
     "schema_version": 3,
     "solution": true,
     "task": false
    }
   },
   "outputs": [],
   "source": [
    "# your code here\n",
    "\n",
    "display(top_students)"
   ]
  },
  {
   "cell_type": "markdown",
   "metadata": {
    "deletable": false,
    "editable": false,
    "nbgrader": {
     "cell_type": "markdown",
     "checksum": "862c4f0b33536afbbfe2f4069ef92f41",
     "grade": false,
     "grade_id": "cell-5c624b097aed3ade",
     "locked": true,
     "schema_version": 3,
     "solution": false,
     "task": false
    }
   },
   "source": [
    "Check your answer by running the cell below."
   ]
  },
  {
   "cell_type": "code",
   "execution_count": null,
   "metadata": {
    "deletable": false,
    "editable": false,
    "nbgrader": {
     "cell_type": "code",
     "checksum": "21b5ab244af9134b000f68e605871c01",
     "grade": true,
     "grade_id": "cell-6a5445939765ef43",
     "locked": true,
     "points": 0,
     "schema_version": 3,
     "solution": false,
     "task": false
    }
   },
   "outputs": [],
   "source": [
    "answers.test_13(top_students)"
   ]
  },
  {
   "cell_type": "markdown",
   "metadata": {
    "deletable": false,
    "editable": false,
    "nbgrader": {
     "cell_type": "markdown",
     "checksum": "37f024693a4ab63dee95f3605e9349f0",
     "grade": false,
     "grade_id": "cell-1fe5f4c676dc4ae5",
     "locked": true,
     "schema_version": 3,
     "solution": false,
     "task": false
    }
   },
   "source": [
    "## Pivot\n",
    "\n",
    "Read about [pivot tables](https://jakevdp.github.io/PythonDataScienceHandbook/03.09-pivot-tables.html).\n",
    "\n",
    "### Exercise 14\n",
    "\n",
    "Based on the `grades` DataFrame from previous exercises. Create a pivot table called `pivot_grades` that has the student names as rows and the course names as columns. The values in the table should be the grades of the corresponding combination of student and course. When the students only got a grade for one of the two courses, `pivot_table` should autmatically assign the value `NaN`. This is ok, you can leave this."
   ]
  },
  {
   "cell_type": "code",
   "execution_count": null,
   "metadata": {
    "deletable": false,
    "nbgrader": {
     "cell_type": "code",
     "checksum": "b7ef7cc16ca1b1350060b3906062fd0d",
     "grade": false,
     "grade_id": "cell-9c76e2d7a9ba1153",
     "locked": false,
     "schema_version": 3,
     "solution": true,
     "task": false
    }
   },
   "outputs": [],
   "source": [
    "# your code here\n",
    "display(pivot_grades)"
   ]
  },
  {
   "cell_type": "markdown",
   "metadata": {
    "deletable": false,
    "editable": false,
    "nbgrader": {
     "cell_type": "markdown",
     "checksum": "11f6d37f17c5ef8a06747b5361028bd8",
     "grade": false,
     "grade_id": "cell-b4c23c896f3d39cf",
     "locked": true,
     "schema_version": 3,
     "solution": false,
     "task": false
    }
   },
   "source": [
    "Check your answer by running the cell below."
   ]
  },
  {
   "cell_type": "code",
   "execution_count": null,
   "metadata": {
    "deletable": false,
    "editable": false,
    "nbgrader": {
     "cell_type": "code",
     "checksum": "f7fe5e0d841a10b35dacc55f71ef379b",
     "grade": true,
     "grade_id": "cell-cce3d5dbce90f46c",
     "locked": true,
     "points": 0,
     "schema_version": 3,
     "solution": false,
     "task": false
    }
   },
   "outputs": [],
   "source": [
    "answers.test_14(pivot_grades)"
   ]
  },
  {
   "cell_type": "markdown",
   "metadata": {
    "deletable": false,
    "editable": false,
    "nbgrader": {
     "cell_type": "markdown",
     "checksum": "e8a9132881cfd52fc252cc3412aff145",
     "grade": false,
     "grade_id": "cell-0cfffb185b982602",
     "locked": true,
     "schema_version": 3,
     "solution": false,
     "task": false
    }
   },
   "source": [
    "## Explode\n",
    "\n",
    "Read about [exploding DataFrames](https://pandas.pydata.org/docs/reference/api/pandas.DataFrame.explode.html).\n",
    "\n",
    "### Exercise 15\n",
    "\n",
    "Create an unnested version of the `movies` DataFrame below. So the result should look like this:\n",
    "\n",
    "                          movie                actors\n",
    "    0            Hababam Sinifi           Kemal Sunal\n",
    "    0            Hababam Sinifi           Münir Özkul\n",
    "    0            Hababam Sinifi        Halit Akçatepe\n",
    "    0            Hababam Sinifi            Tarik Akan\n",
    "    1  The Shawshank Redemption           Tim Robbins\n",
    "    1  The Shawshank Redemption        Morgan Freeman\n",
    "    1  The Shawshank Redemption            Bob Gunton\n",
    "    1  The Shawshank Redemption        William Sadler\n",
    "    2                  Aynabaji    Chanchal Chowdhury\n",
    "    2                  Aynabaji  Masuma Rahman Nabila\n",
    "    2                  Aynabaji    Bijori Barkatullah\n",
    "    2                  Aynabaji          Partha Barua\n",
    "    3             The Godfather         Marlon Brando\n",
    "    3             The Godfather             Al Pacino\n",
    "    3             The Godfather            James Caan\n",
    "    3             The Godfather          Diane Keaton\n",
    "    \n",
    "Store the result in `exploded_actors`"
   ]
  },
  {
   "cell_type": "code",
   "execution_count": null,
   "metadata": {
    "deletable": false,
    "nbgrader": {
     "cell_type": "code",
     "checksum": "695fba5590eb9c1671957f9c3de426c7",
     "grade": false,
     "grade_id": "cell-381ec17e0a711b33",
     "locked": false,
     "schema_version": 3,
     "solution": true,
     "task": false
    }
   },
   "outputs": [],
   "source": [
    "movies = pd.DataFrame([[\"Hababam Sinifi\",\n",
    "                           [\"Kemal Sunal\", \"Münir Özkul\", \"Halit Akçatepe\", \"Tarik Akan\"]],\n",
    "                      [\"The Shawshank Redemption\",\n",
    "                           [\"Tim Robbins\", \"Morgan Freeman\", \"Bob Gunton\", \"William Sadler\"]],\n",
    "                      [\"Aynabaji\", \n",
    "                           [\"Chanchal Chowdhury\", \"Masuma Rahman Nabila\", \"Bijori Barkatullah\", \"Partha Barua\"]],\n",
    "                      [\"The Godfather\",\n",
    "                           [\"Marlon Brando\", \"Al Pacino\", \"James Caan\", \"Diane Keaton\"]]],\n",
    "                     columns = [\"movie\", \"actors\"])\n",
    "\n",
    "# your code here\n",
    "display(exploded_actors)"
   ]
  },
  {
   "cell_type": "markdown",
   "metadata": {
    "deletable": false,
    "editable": false,
    "nbgrader": {
     "cell_type": "markdown",
     "checksum": "019ce9f8b3612c0cd8afce013bbdc65a",
     "grade": false,
     "grade_id": "cell-c40fffa18222a6e6",
     "locked": true,
     "schema_version": 3,
     "solution": false,
     "task": false
    }
   },
   "source": [
    "Check your answer by comparing to the table above."
   ]
  },
  {
   "cell_type": "markdown",
   "metadata": {
    "deletable": false,
    "editable": false,
    "nbgrader": {
     "cell_type": "markdown",
     "checksum": "75045a9cec0003a669b828504b684ece",
     "grade": false,
     "grade_id": "cell-0a03d88a33cb49b3",
     "locked": true,
     "schema_version": 3,
     "solution": false,
     "task": false
    }
   },
   "source": [
    "## Reading and writing data \n",
    "\n",
    "Look at how you can [store data as a csv file](https://pandas.pydata.org/docs/reference/api/pandas.DataFrame.to_csv.html).\n",
    "Look at how you can [read the data back](https://pandas.pydata.org/pandas-docs/stable/reference/api/pandas.read_csv.html)."
   ]
  },
  {
   "cell_type": "markdown",
   "metadata": {
    "deletable": false,
    "editable": false,
    "nbgrader": {
     "cell_type": "markdown",
     "checksum": "9b13673e12e17183e0da73b2278e4bc2",
     "grade": false,
     "grade_id": "cell-6a407ebaa66791d7",
     "locked": true,
     "schema_version": 3,
     "solution": false,
     "task": false
    }
   },
   "source": [
    "### Exercise 16\n",
    "\n",
    "As a final challenge try to see if you can combine the pandas methods `read_csv`, `to_csv`, `map`, `explode`, `sort_values`, `groupby` and `head` for a more complex data transformation.\n",
    "\n",
    "The file `data/recipes.csv` contains a few recipes with their lists of ingredients. The recipes were rated on a scale from 1 to 5 by the users of a food website. The file also contains the average rating of the recipes. The contents:\n",
    "\n",
    "    recipe_name,rating,ingredients\n",
    "    Caprese Salad,4.5,tomato;olive oil;basil;mozzerella\n",
    "    Lasagna,4.8,beef;pork;bacon;onion;celery;carrot;wine;tomato\n",
    "    Beef Bourguignon,4.3,beef;bacon;onion;carrot;celery;flour;garlic;wine\n",
    "    Hamburger,3.8,beef;bacon;letuce;bread;onion;mayo;ketchup;pickle\n",
    "    Lentil Burger,4.0,lemon;lentils;yogurt;garlic;mushrooms;miso;parika;flour;bread;pickles\n",
    "\n",
    "As you can see, the first column is the name, the second column contains the average rating and the third column contains all the ingredients (separated by a semicolon `;`).\n",
    "\n",
    "We want to know for each ingredient, what the **top two recipes** are that contain that ingredient. So, the two recipes with the highest rating containing that ingredient. For example, the top two recipes for *bacon* are *Lasagna* and *Beef Bourguignon*. (*Hamburger* also contains *bacon*, but it's rating is lower than the other two recipes, so we ignore that one.)\n",
    "\n",
    "Write a piece of code that reads the file `data/recipes.csv`, does all the required transformations and produces a file `ingredients.csv` into the `data` folder, containing the information we want. A fragment of the contents of the output file you should produce is shown here:\n",
    "\n",
    "    ingredients,recipe_name\n",
    "    bacon,Lasagna\n",
    "    bacon,Beef Bourguignon\n",
    "    basil,Caprese Salad\n",
    "    beef,Lasagna\n",
    "    beef,Beef Bourguignon\n",
    "    bread,Hamburger\n",
    "    bread,Lentil Burger\n",
    "    carrot,Lasagna\n",
    "    carrot,Beef Bourguignon\n",
    "    ...\n",
    "\n",
    "As you can see, the first two entries are the top two recipes for *bacon*. After that we see only one entry for *basil*, because *basil* occurs in only one recipe. This is okay: If an ingredient only occurs in one recipe, the output should only contain that entry.\n",
    "\n",
    "_The output should be sorted by the name of the ingredient._ Note that the output csv should not contain indices. Your outputted csv should look exactly like the example above.\n",
    "\n",
    "> **Hint:** After reading the csv, the third column contains all the ingredients in a single string. Write a function `separate_semicolons(ingredient_string)` that accepts such a string of ingredients separated by semicolons. The function should return a list of ingredients. You can then use this function in Pandas' `.map()` to get a list of ingredients in every row of your `DataFrame`!"
   ]
  },
  {
   "cell_type": "code",
   "execution_count": null,
   "metadata": {
    "deletable": false,
    "nbgrader": {
     "cell_type": "code",
     "checksum": "3c26a9b6e9155161f6cb74ed46df5839",
     "grade": false,
     "grade_id": "cell-b65dcbf05342a0cc",
     "locked": false,
     "schema_version": 3,
     "solution": true,
     "task": false
    }
   },
   "outputs": [],
   "source": [
    "# your code here"
   ]
  },
  {
   "cell_type": "markdown",
   "metadata": {
    "deletable": false,
    "editable": false,
    "nbgrader": {
     "cell_type": "markdown",
     "checksum": "6f8efaa9b32c9e39e00344e7eb837bd5",
     "grade": false,
     "grade_id": "cell-5cf9de3a04e7c68b",
     "locked": true,
     "schema_version": 3,
     "solution": false,
     "task": false
    }
   },
   "source": [
    "Check your answer by running the cell below."
   ]
  },
  {
   "cell_type": "code",
   "execution_count": null,
   "metadata": {
    "deletable": false,
    "editable": false,
    "nbgrader": {
     "cell_type": "code",
     "checksum": "d5cd235a415c99fd230a0255a048d750",
     "grade": true,
     "grade_id": "cell-74bdfc579cbc9fa0",
     "locked": true,
     "points": 0,
     "schema_version": 3,
     "solution": false,
     "task": false
    }
   },
   "outputs": [],
   "source": [
    "answers.test_16()"
   ]
  }
 ],
 "metadata": {
  "kernelspec": {
   "display_name": "Python 3 (ipykernel)",
   "language": "python",
   "name": "python3"
  },
  "language_info": {
   "codemirror_mode": {
    "name": "ipython",
    "version": 3
   },
   "file_extension": ".py",
   "mimetype": "text/x-python",
   "name": "python",
   "nbconvert_exporter": "python",
   "pygments_lexer": "ipython3",
   "version": "3.9.13"
  }
 },
 "nbformat": 4,
 "nbformat_minor": 2
}
